{
  "nbformat": 4,
  "nbformat_minor": 0,
  "metadata": {
    "colab": {
      "name": "checkpoint python",
      "provenance": [],
      "collapsed_sections": [],
      "toc_visible": true,
      "mount_file_id": "1pI_1wdNN0Z0pvZ3mHNID52LC55nMpudw",
      "authorship_tag": "ABX9TyNUGYWvdJp1W2oyYyNPf/EB",
      "include_colab_link": true
    },
    "kernelspec": {
      "name": "python3",
      "display_name": "Python 3"
    }
  },
  "cells": [
    {
      "cell_type": "markdown",
      "metadata": {
        "id": "view-in-github",
        "colab_type": "text"
      },
      "source": [
        "<a href=\"https://colab.research.google.com/github/KabissaHakim/Gomycode/blob/main/checkpoint_python.ipynb\" target=\"_parent\"><img src=\"https://colab.research.google.com/assets/colab-badge.svg\" alt=\"Open In Colab\"/></a>"
      ]
    },
    {
      "cell_type": "code",
      "metadata": {
        "colab": {
          "base_uri": "https://localhost:8080/"
        },
        "id": "Cz6CNYoVlLIL",
        "outputId": "e60718a7-0215-42a6-891f-0152128a6fea"
      },
      "source": [
        "#Question1\r\n",
        "L=[]\r\n",
        "for i in range(2000,3201):\r\n",
        "  if i%7==0 and i%5!=0:\r\n",
        "    L.append(i)\r\n",
        "print(L)\r\n"
      ],
      "execution_count": 1,
      "outputs": [
        {
          "output_type": "stream",
          "text": [
            "[2002, 2009, 2016, 2023, 2037, 2044, 2051, 2058, 2072, 2079, 2086, 2093, 2107, 2114, 2121, 2128, 2142, 2149, 2156, 2163, 2177, 2184, 2191, 2198, 2212, 2219, 2226, 2233, 2247, 2254, 2261, 2268, 2282, 2289, 2296, 2303, 2317, 2324, 2331, 2338, 2352, 2359, 2366, 2373, 2387, 2394, 2401, 2408, 2422, 2429, 2436, 2443, 2457, 2464, 2471, 2478, 2492, 2499, 2506, 2513, 2527, 2534, 2541, 2548, 2562, 2569, 2576, 2583, 2597, 2604, 2611, 2618, 2632, 2639, 2646, 2653, 2667, 2674, 2681, 2688, 2702, 2709, 2716, 2723, 2737, 2744, 2751, 2758, 2772, 2779, 2786, 2793, 2807, 2814, 2821, 2828, 2842, 2849, 2856, 2863, 2877, 2884, 2891, 2898, 2912, 2919, 2926, 2933, 2947, 2954, 2961, 2968, 2982, 2989, 2996, 3003, 3017, 3024, 3031, 3038, 3052, 3059, 3066, 3073, 3087, 3094, 3101, 3108, 3122, 3129, 3136, 3143, 3157, 3164, 3171, 3178, 3192, 3199]\n"
          ],
          "name": "stdout"
        }
      ]
    },
    {
      "cell_type": "code",
      "metadata": {
        "colab": {
          "base_uri": "https://localhost:8080/"
        },
        "id": "L34Sw6ZboBb4",
        "outputId": "4a1e7db1-d2d5-4f6f-d5cd-cd24fd231630"
      },
      "source": [
        "#Question2\r\n",
        "\r\n",
        "def factorielle(n):\r\n",
        "  x=1\r\n",
        "  for i in range(1,n+1):\r\n",
        "    x=x*i\r\n",
        "  return x\r\n",
        "factorielle(6)\r\n"
      ],
      "execution_count": 2,
      "outputs": [
        {
          "output_type": "execute_result",
          "data": {
            "text/plain": [
              "720"
            ]
          },
          "metadata": {
            "tags": []
          },
          "execution_count": 2
        }
      ]
    },
    {
      "cell_type": "code",
      "metadata": {
        "colab": {
          "base_uri": "https://localhost:8080/"
        },
        "id": "9EcJZU1SrF1U",
        "outputId": "29662d3e-3431-4430-b657-385acf1431af"
      },
      "source": [
        "#Question3\r\n",
        "def carré(n):\r\n",
        "  D={}\r\n",
        "  for i in range(1,n+1):\r\n",
        "    D[i]=i*i\r\n",
        "  return D\r\n",
        "carré(8)"
      ],
      "execution_count": 3,
      "outputs": [
        {
          "output_type": "execute_result",
          "data": {
            "text/plain": [
              "{1: 1, 2: 4, 3: 9, 4: 16, 5: 25, 6: 36, 7: 49, 8: 64}"
            ]
          },
          "metadata": {
            "tags": []
          },
          "execution_count": 3
        }
      ]
    },
    {
      "cell_type": "code",
      "metadata": {
        "colab": {
          "base_uri": "https://localhost:8080/",
          "height": 52
        },
        "id": "h-mne4OHtiQi",
        "outputId": "d04f031f-8f76-4bb5-f7c9-26a6a85c62c1"
      },
      "source": [
        "#Question4\r\n",
        "\r\n",
        "def char(name,n):\r\n",
        "  while n>len(name)-1 or n<0:\r\n",
        "    n=int(input('n='))\r\n",
        "  ch=name[:n]\r\n",
        "  ch2=name[n+1:]\r\n",
        "  name=ch+ch2\r\n",
        "  return name\r\n",
        "char('kitten',8)\r\n"
      ],
      "execution_count": 4,
      "outputs": [
        {
          "output_type": "stream",
          "text": [
            "n=5\n"
          ],
          "name": "stdout"
        },
        {
          "output_type": "execute_result",
          "data": {
            "application/vnd.google.colaboratory.intrinsic+json": {
              "type": "string"
            },
            "text/plain": [
              "'kitte'"
            ]
          },
          "metadata": {
            "tags": []
          },
          "execution_count": 4
        }
      ]
    },
    {
      "cell_type": "code",
      "metadata": {
        "colab": {
          "base_uri": "https://localhost:8080/"
        },
        "id": "yygANs1M2gJj",
        "outputId": "29c12568-4f36-406a-b852-249d3f0811c5"
      },
      "source": [
        "#Question5\r\n",
        "import numpy as np\r\n",
        "array=np.array([[0,1],[2,3],[4,5]])\r\n",
        "b=array.tolist()\r\n",
        "print(b)"
      ],
      "execution_count": 5,
      "outputs": [
        {
          "output_type": "stream",
          "text": [
            "[[0, 1], [2, 3], [4, 5]]\n"
          ],
          "name": "stdout"
        }
      ]
    },
    {
      "cell_type": "code",
      "metadata": {
        "id": "iw4QzWGj9ZAh"
      },
      "source": [
        "#Question6\r\n",
        "a=np.array([[0,1,2]])\r\n",
        "b=np.array([[2,1,0]])\r\n",
        "c=np.cov(a,b)"
      ],
      "execution_count": 6,
      "outputs": []
    },
    {
      "cell_type": "code",
      "metadata": {
        "id": "2QPmd9L4-_WP",
        "colab": {
          "base_uri": "https://localhost:8080/"
        },
        "outputId": "bb06fb39-e684-42d5-d91d-65087d7aee71"
      },
      "source": [
        "#Question 7\r\n",
        "import math\r\n",
        "C=50\r\n",
        "H=30\r\n",
        "l=[]\r\n",
        "def calculate(D):\r\n",
        "  return math.trunc(math.sqrt((2*C*D)/H))\r\n",
        "L=[int(x) for x in input(\"entre multiple values n\").split(',')]\r\n",
        "for i in range(len(L)):\r\n",
        "  l.append(str(calculate(L[i])))\r\n",
        "ch=\",\".join(l)\r\n",
        "print(ch)"
      ],
      "execution_count": 8,
      "outputs": [
        {
          "output_type": "stream",
          "text": [
            "entre multiple values n120,130,140\n",
            "20,20,21\n"
          ],
          "name": "stdout"
        }
      ]
    },
    {
      "cell_type": "code",
      "metadata": {
        "id": "chVXhlondVDa"
      },
      "source": [
        "from google.colab import drive\n",
        "drive.mount('/content/drive')"
      ],
      "execution_count": null,
      "outputs": []
    }
  ]
}