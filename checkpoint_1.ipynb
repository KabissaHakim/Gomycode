{
  "nbformat": 4,
  "nbformat_minor": 0,
  "metadata": {
    "colab": {
      "name": "checkpoint 1",
      "provenance": []
    },
    "kernelspec": {
      "name": "python3",
      "display_name": "Python 3"
    }
  },
  "cells": [
    {
      "cell_type": "code",
      "metadata": {
        "id": "2FX4la8JqaNE"
      },
      "source": [
        "print(\"Welcome to python world! Let's start coding\")"
      ],
      "execution_count": null,
      "outputs": []
    }
  ]
}